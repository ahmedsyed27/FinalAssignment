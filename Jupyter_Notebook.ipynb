{
  "metadata": {
    "kernelspec": {
      "name": "python",
      "display_name": "Pyolite",
      "language": "python"
    },
    "language_info": {
      "codemirror_mode": {
        "name": "python",
        "version": 3
      },
      "file_extension": ".py",
      "mimetype": "text/x-python",
      "name": "python",
      "nbconvert_exporter": "python",
      "pygments_lexer": "ipython3",
      "version": "3.8"
    }
  },
  "nbformat_minor": 4,
  "nbformat": 4,
  "cells": [
    {
      "cell_type": "markdown",
      "source": "<center>\n    <img src=\"https://cf-courses-data.s3.us.cloud-object-storage.appdomain.cloud/IBMDeveloperSkillsNetwork-DS0105EN-SkillsNetwork/labs/Module2/images/SN_web_lightmode.png\" width=\"300\" alt=\"cognitiveclass.ai logo\"  />\n</center>\n",
      "metadata": {}
    },
    {
      "cell_type": "markdown",
      "source": "# My Jupyter Notebook on Skills Network Labs",
      "metadata": {}
    },
    {
      "cell_type": "markdown",
      "source": "**Ahmed Syed** \nData Analyst ",
      "metadata": {}
    },
    {
      "cell_type": "markdown",
      "source": "### I am interested in data science because it allows me to discover hidden patterns from large data sets. Also with my love for psychology, it allows me to gain a deeper understanding for human behavior on a large scale. ",
      "metadata": {}
    },
    {
      "cell_type": "markdown",
      "source": "The following code is a simple addition problem. The value 2 is represented as 'x', and the value 1 is represented as 'y'. This code then sums the variables and the result is defined as the 'result' variable. The print() function outputs the value stored in the 'result' variable which is 3. ",
      "metadata": {}
    },
    {
      "cell_type": "code",
      "source": "x = 2\ny = 1\nresult = x + y \nprint(result)",
      "metadata": {
        "trusted": true
      },
      "execution_count": 2,
      "outputs": [
        {
          "name": "stdout",
          "text": "3\n",
          "output_type": "stream"
        }
      ]
    },
    {
      "cell_type": "markdown",
      "source": "- Bulleted \n- List \n\n1. Numbered \n2. List \n\n--- ",
      "metadata": {}
    }
  ]
}